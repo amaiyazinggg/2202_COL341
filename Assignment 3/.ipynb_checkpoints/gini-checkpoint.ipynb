{
 "cells": [
  {
   "cell_type": "code",
   "execution_count": 1,
   "id": "140b713e-a488-4e9a-8d68-ad1f112f445a",
   "metadata": {},
   "outputs": [],
   "source": [
    "import numpy as np\n",
    "import pandas as pd\n",
    "from matplotlib import pyplot as plt\n",
    "import cv2 as cv\n",
    "import glob\n",
    "from sklearn import tree\n",
    "import sklearn\n",
    "import time\n",
    "from sklearn.feature_selection import SelectKBest\n",
    "import pygraphviz\n",
    "from sklearn import tree\n",
    "from sklearn import metrics\n",
    "from sklearn.metrics import multilabel_confusion_matrix\n",
    "import seaborn as sns\n",
    "from sklearn.model_selection import GridSearchCV\n",
    "from sklearn.ensemble import RandomForestClassifier\n",
    "from sklearn.ensemble import GradientBoostingClassifier\n",
    "import xgboost as xgb"
   ]
  },
  {
   "cell_type": "code",
   "execution_count": 2,
   "id": "ae6ff2d5-264a-4879-bba8-98564b1f3082",
   "metadata": {},
   "outputs": [],
   "source": [
    "class Node:\n",
    "    def __init__(self, feature=None, threshold=None, left_child = None, right_child = None, info_gain=None, value=None):\n",
    "        self.left_child = left_child\n",
    "        self.right_child = right_child\n",
    "        self.feature = feature\n",
    "        self.threshold = threshold\n",
    "        self.info_gain = info_gain\n",
    "        self.value = value"
   ]
  },
  {
   "cell_type": "code",
   "execution_count": 66,
   "id": "2c6a2162-71ef-47b9-a91d-8529aa86aa73",
   "metadata": {},
   "outputs": [],
   "source": [
    "class DecisionTree:\n",
    "    \n",
    "    def __init__(self, min_samples_split=7, max_depth=10):\n",
    "        self.max_depth = max_depth\n",
    "        self.min_samples_split = min_samples_split\n",
    "        self.root = None\n",
    "        \n",
    "    def gini(self, y):\n",
    "        number_of_each_class = np.bincount(np.array(y, dtype=np.int64))\n",
    "        probabilities = number_of_each_class/len(y)\n",
    "        prob_squared = np.square(probabilities)\n",
    "        gini = 1 - np.sum(prob_squared)\n",
    "        return gini\n",
    "    \n",
    "    def find_split(self, x, y):\n",
    "        split_best = {}\n",
    "        gini_best = 1\n",
    "        \n",
    "        rows = x.shape[0]\n",
    "        columns = x.shape[1]\n",
    "        \n",
    "        for feature in range(columns):\n",
    "            \n",
    "            selected_column = x[:, feature]\n",
    "\n",
    "            for threshold in np.unique(selected_column):\n",
    "                \n",
    "                data = np.concatenate((x, y.reshape(1, -1).T), axis=1)\n",
    "                \n",
    "                left_child = [vector for vector in data if vector[feature] <= threshold]\n",
    "                left_child = np.array(left_child)\n",
    "                \n",
    "                right_child = [vector for vector in data if vector[feature] > threshold]\n",
    "                right_child = np.array(right_child)\n",
    "\n",
    "                if len(left_child) > 0 and len(right_child) > 0:\n",
    "                    y = data[:, -1]\n",
    "                    y_left = left_child[:, -1]\n",
    "                    y_right = right_child[:, -1]\n",
    "\n",
    "                    gini = (self.gini(y_left)*len(y_left) + self.gini(y_right)*len(y_right))/(len(y_left) + len(y_right))\n",
    "                    if gini < gini_best:\n",
    "                        split_best = {'feature_index': feature,'threshold': threshold,'df_left': left_child,'df_right': right_child, 'gini': gini}\n",
    "                        gini_best = gini\n",
    "                        \n",
    "        return split_best\n",
    "\n",
    "    \n",
    "    def find_maxcount(self, y):\n",
    "        zero_count = 0\n",
    "        one_count = 0\n",
    "        \n",
    "        for i in y:\n",
    "            if i == 0:\n",
    "                zero_count += 1\n",
    "            else:\n",
    "                one_count += 1\n",
    "        \n",
    "        if zero_count > one_count:\n",
    "            return 0\n",
    "        else:\n",
    "            return 1\n",
    "    \n",
    "    def construct_tree(self, x, y, depth=0):\n",
    "        rows = x.shape[0]\n",
    "        columns = x.shape[0]\n",
    "    \n",
    "        if rows >= self.min_samples_split and depth <= self.max_depth:\n",
    "            \n",
    "            optimal_split = self.find_split(x, y)\n",
    "\n",
    "            if optimal_split['gini'] > 0:\n",
    "                left = self.construct_tree(optimal_split['df_left'][:, :-1], optimal_split['df_left'][:, -1], depth + 1)\n",
    "                right = self.construct_tree(optimal_split['df_right'][:, :-1], optimal_split['df_right'][:, -1], depth=depth + 1)\n",
    "                \n",
    "                return Node(optimal_split['feature_index'], optimal_split['threshold'], left, right, optimal_split['gini'])\n",
    "\n",
    "        return Node(value = self.find_maxcount(y))\n",
    "    \n",
    "    def fit(self, x, y):\n",
    "        self.root = self.construct_tree(x, y)\n",
    "        \n",
    "    def predict_helper(self, my_node, x):\n",
    "        #value is Not None only for leaf nodes\n",
    "        if my_node.value != None:\n",
    "            return my_node.value\n",
    "        \n",
    "        #take that particular feature of the entry\n",
    "        compare_this = x[my_node.feature]\n",
    "        \n",
    "        #check on which side of the threshold it is\n",
    "        if compare_this <= my_node.threshold:\n",
    "            return self.predict_helper(my_node.left_child, x)\n",
    "        else:\n",
    "            return self.predict_helper(my_node.right_child, x)\n",
    "        \n",
    "    def predict(self, x):\n",
    "        y_prediction = [self.predict_helper(self.root, i) for i in x]\n",
    "        return y_prediction"
   ]
  },
  {
   "cell_type": "code",
   "execution_count": 67,
   "id": "d09e4228-3fcd-4d3c-9076-8b64fa6a83a9",
   "metadata": {},
   "outputs": [],
   "source": [
    "path = glob.glob(\"data/train/person/*.png\")\n",
    "cv_img = []\n",
    "for img in path:\n",
    "    n = np.array(cv.imread(img).flatten())\n",
    "    cv_img.append(n)\n",
    "path = glob.glob(\"data/train/car/*.png\")\n",
    "for img in path:\n",
    "    n = np.array(cv.imread(img).flatten())\n",
    "    cv_img.append(n)\n",
    "path = glob.glob(\"data/train/dog/*.png\")\n",
    "for img in path:\n",
    "    n = np.array(cv.imread(img).flatten())\n",
    "    cv_img.append(n)\n",
    "path = glob.glob(\"data/train/airplane/*.png\")\n",
    "for img in path:\n",
    "    n = np.array(cv.imread(img).flatten())\n",
    "    cv_img.append(n)\n",
    "x_train = np.array(cv_img)\n",
    "y_ones = np.ones(500)\n",
    "y_zeros = np.zeros(1500)\n",
    "y_train = np.hstack((y_ones, y_zeros))"
   ]
  },
  {
   "cell_type": "code",
   "execution_count": 68,
   "id": "e59eff9b-b45d-4810-ae65-062697dbfb97",
   "metadata": {},
   "outputs": [],
   "source": [
    "path = glob.glob(\"data/validation/person/*.png\")\n",
    "cv_img = []\n",
    "for img in path:\n",
    "    n = np.array(cv.imread(img).flatten())\n",
    "    cv_img.append(n)\n",
    "path = glob.glob(\"data/validation/car/*.png\")\n",
    "for img in path:\n",
    "    n = np.array(cv.imread(img).flatten())\n",
    "    cv_img.append(n)\n",
    "path = glob.glob(\"data/validation/dog/*.png\")\n",
    "for img in path:\n",
    "    n = np.array(cv.imread(img).flatten())\n",
    "    cv_img.append(n)\n",
    "path = glob.glob(\"data/validation/airplane/*.png\")\n",
    "for img in path:\n",
    "    n = np.array(cv.imread(img).flatten())\n",
    "    cv_img.append(n)\n",
    "x_validation = np.array(cv_img)\n",
    "y_validation = np.hstack((np.ones(100), np.zeros(300)))"
   ]
  },
  {
   "cell_type": "code",
   "execution_count": 69,
   "id": "747e4cee-b2bf-439c-bdfb-5227f289ac55",
   "metadata": {},
   "outputs": [],
   "source": [
    "selection = SelectKBest(k=20).fit(x_train, y_train)\n",
    "x_train_new = selection.transform(x_train)\n",
    "x_val_new = selection.transform(x_validation)"
   ]
  },
  {
   "cell_type": "code",
   "execution_count": 70,
   "id": "83694a1d-396e-4904-8c63-28e81f85cd07",
   "metadata": {
    "tags": []
   },
   "outputs": [
    {
     "ename": "KeyError",
     "evalue": "'gini'",
     "output_type": "error",
     "traceback": [
      "\u001b[0;31m---------------------------------------------------------------------------\u001b[0m",
      "\u001b[0;31mKeyError\u001b[0m                                  Traceback (most recent call last)",
      "Cell \u001b[0;32mIn[70], line 2\u001b[0m\n\u001b[1;32m      1\u001b[0m model \u001b[38;5;241m=\u001b[39m DecisionTree()\n\u001b[0;32m----> 2\u001b[0m \u001b[43mmodel\u001b[49m\u001b[38;5;241;43m.\u001b[39;49m\u001b[43mfit\u001b[49m\u001b[43m(\u001b[49m\u001b[43mx_train_new\u001b[49m\u001b[43m,\u001b[49m\u001b[43m \u001b[49m\u001b[43my_train\u001b[49m\u001b[43m)\u001b[49m\n",
      "Cell \u001b[0;32mIn[66], line 81\u001b[0m, in \u001b[0;36mDecisionTree.fit\u001b[0;34m(self, x, y)\u001b[0m\n\u001b[1;32m     80\u001b[0m \u001b[38;5;28;01mdef\u001b[39;00m \u001b[38;5;21mfit\u001b[39m(\u001b[38;5;28mself\u001b[39m, x, y):\n\u001b[0;32m---> 81\u001b[0m     \u001b[38;5;28mself\u001b[39m\u001b[38;5;241m.\u001b[39mroot \u001b[38;5;241m=\u001b[39m \u001b[38;5;28;43mself\u001b[39;49m\u001b[38;5;241;43m.\u001b[39;49m\u001b[43mconstruct_tree\u001b[49m\u001b[43m(\u001b[49m\u001b[43mx\u001b[49m\u001b[43m,\u001b[49m\u001b[43m \u001b[49m\u001b[43my\u001b[49m\u001b[43m)\u001b[49m\n",
      "Cell \u001b[0;32mIn[66], line 72\u001b[0m, in \u001b[0;36mDecisionTree.construct_tree\u001b[0;34m(self, x, y, depth)\u001b[0m\n\u001b[1;32m     68\u001b[0m \u001b[38;5;28;01mif\u001b[39;00m rows \u001b[38;5;241m>\u001b[39m\u001b[38;5;241m=\u001b[39m \u001b[38;5;28mself\u001b[39m\u001b[38;5;241m.\u001b[39mmin_samples_split \u001b[38;5;129;01mand\u001b[39;00m depth \u001b[38;5;241m<\u001b[39m\u001b[38;5;241m=\u001b[39m \u001b[38;5;28mself\u001b[39m\u001b[38;5;241m.\u001b[39mmax_depth:\n\u001b[1;32m     70\u001b[0m     optimal_split \u001b[38;5;241m=\u001b[39m \u001b[38;5;28mself\u001b[39m\u001b[38;5;241m.\u001b[39mfind_split(x, y)\n\u001b[0;32m---> 72\u001b[0m     \u001b[38;5;28;01mif\u001b[39;00m \u001b[43moptimal_split\u001b[49m\u001b[43m[\u001b[49m\u001b[38;5;124;43m'\u001b[39;49m\u001b[38;5;124;43mgini\u001b[39;49m\u001b[38;5;124;43m'\u001b[39;49m\u001b[43m]\u001b[49m \u001b[38;5;241m<\u001b[39m\u001b[38;5;241m=\u001b[39m \u001b[38;5;241m0.5\u001b[39m:\n\u001b[1;32m     73\u001b[0m         left \u001b[38;5;241m=\u001b[39m \u001b[38;5;28mself\u001b[39m\u001b[38;5;241m.\u001b[39mconstruct_tree(optimal_split[\u001b[38;5;124m'\u001b[39m\u001b[38;5;124mdf_left\u001b[39m\u001b[38;5;124m'\u001b[39m][:, :\u001b[38;5;241m-\u001b[39m\u001b[38;5;241m1\u001b[39m], optimal_split[\u001b[38;5;124m'\u001b[39m\u001b[38;5;124mdf_left\u001b[39m\u001b[38;5;124m'\u001b[39m][:, \u001b[38;5;241m-\u001b[39m\u001b[38;5;241m1\u001b[39m], depth \u001b[38;5;241m+\u001b[39m \u001b[38;5;241m1\u001b[39m)\n\u001b[1;32m     74\u001b[0m         right \u001b[38;5;241m=\u001b[39m \u001b[38;5;28mself\u001b[39m\u001b[38;5;241m.\u001b[39mconstruct_tree(optimal_split[\u001b[38;5;124m'\u001b[39m\u001b[38;5;124mdf_right\u001b[39m\u001b[38;5;124m'\u001b[39m][:, :\u001b[38;5;241m-\u001b[39m\u001b[38;5;241m1\u001b[39m], optimal_split[\u001b[38;5;124m'\u001b[39m\u001b[38;5;124mdf_right\u001b[39m\u001b[38;5;124m'\u001b[39m][:, \u001b[38;5;241m-\u001b[39m\u001b[38;5;241m1\u001b[39m], depth\u001b[38;5;241m=\u001b[39mdepth \u001b[38;5;241m+\u001b[39m \u001b[38;5;241m1\u001b[39m)\n",
      "\u001b[0;31mKeyError\u001b[0m: 'gini'"
     ]
    }
   ],
   "source": [
    "model = DecisionTree()\n",
    "model.fit(x_train_new, y_train)"
   ]
  },
  {
   "cell_type": "code",
   "execution_count": null,
   "id": "185422d3-3ee3-468f-8315-20504d47b83e",
   "metadata": {},
   "outputs": [],
   "source": [
    "y_validation_predicted = model.predict(x_val_new)\n",
    "y_train_predicted = model.predict(x_train_new)"
   ]
  },
  {
   "cell_type": "code",
   "execution_count": null,
   "id": "e6d68b01-afbb-422a-97e6-45e2b204e3d7",
   "metadata": {},
   "outputs": [],
   "source": [
    "print(sklearn.metrics.accuracy_score(y_train, y_train_predicted)*100)\n",
    "print(sklearn.metrics.precision_score(y_train, y_train_predicted)*100)\n",
    "print(sklearn.metrics.recall_score(y_train, y_train_predicted)*100)"
   ]
  },
  {
   "cell_type": "code",
   "execution_count": null,
   "id": "b56c7dc8-8783-4edd-8d78-0ac292cb9319",
   "metadata": {},
   "outputs": [],
   "source": [
    "print(sklearn.metrics.accuracy_score(y_validation, y_validation_predicted)*100)\n",
    "print(sklearn.metrics.precision_score(y_validation, y_validation_predicted)*100)\n",
    "print(sklearn.metrics.recall_score(y_validation, y_validation_predicted)*100)"
   ]
  },
  {
   "cell_type": "code",
   "execution_count": 55,
   "id": "824ac51e-0c39-48c0-9d24-27668352ec80",
   "metadata": {},
   "outputs": [
    {
     "data": {
      "image/png": "[encoded data removed]",
      "text/plain": [
       "<Figure size 500x400 with 2 Axes>"
      ]
     },
     "metadata": {},
     "output_type": "display_data"
    }
   ],
   "source": [
    "cm = metrics.confusion_matrix(y_validation, y_validation_predicted)\n",
    "cm_df = pd.DataFrame(cm,\n",
    "             index = [0,1], \n",
    "             columns = [0,1])\n",
    "\n",
    "#Plotting the confusion matrix\n",
    "plt.figure(figsize=(5,4))\n",
    "sns.heatmap(cm_df, annot=True, fmt=\".0f\")\n",
    "plt.title('Confusion Matrix')\n",
    "plt.ylabel('Actual Values')\n",
    "plt.xlabel('Predicted Values')\n",
    "plt.show()"
   ]
  },
  {
   "cell_type": "code",
   "execution_count": 12,
   "id": "acfb0f7f-e2c0-4911-a8af-eb7b1b38ae2d",
   "metadata": {},
   "outputs": [
    {
     "data": {
      "image/png": "[encoded data removed]",
      "text/plain": [
       "<Figure size 500x400 with 2 Axes>"
      ]
     },
     "metadata": {},
     "output_type": "display_data"
    }
   ],
   "source": [
    "cm = metrics.confusion_matrix(y_train, y_train_predicted)\n",
    "cm_df = pd.DataFrame(cm,\n",
    "             index = [0,1], \n",
    "             columns = [0,1])\n",
    "\n",
    "#Plotting the confusion matrix\n",
    "plt.figure(figsize=(5,4))\n",
    "sns.heatmap(cm_df, annot=True, fmt=\".0f\")\n",
    "plt.title('Confusion Matrix')\n",
    "plt.ylabel('Actual Values')\n",
    "plt.xlabel('Predicted Values')\n",
    "plt.show()"
   ]
  },
  {
   "cell_type": "code",
   "execution_count": 3,
   "id": "e98a337b-e887-49cc-ab19-0d0aebfa9b8c",
   "metadata": {},
   "outputs": [],
   "source": [
    "def gini(y):\n",
    "        number_of_each_class = np.bincount(np.array(y, dtype=np.int64))\n",
    "        probabilities = number_of_each_class/len(y)\n",
    "        prob_squared = np.square(probabilities)\n",
    "        gini = 1 - np.sum(prob_squared)\n",
    "        return gini"
   ]
  },
  {
   "cell_type": "code",
   "execution_count": 13,
   "id": "6a5f8ddd-f058-495c-bd0d-e3736ef6a3a0",
   "metadata": {},
   "outputs": [
    {
     "ename": "ValueError",
     "evalue": "object too deep for desired array",
     "output_type": "error",
     "traceback": [
      "\u001b[0;31m---------------------------------------------------------------------------\u001b[0m",
      "\u001b[0;31mValueError\u001b[0m                                Traceback (most recent call last)",
      "Cell \u001b[0;32mIn[13], line 1\u001b[0m\n\u001b[0;32m----> 1\u001b[0m \u001b[43mgini\u001b[49m\u001b[43m(\u001b[49m\u001b[43m[\u001b[49m\u001b[43m[\u001b[49m\u001b[38;5;241;43m1\u001b[39;49m\u001b[43m]\u001b[49m\u001b[43m,\u001b[49m\u001b[43m[\u001b[49m\u001b[38;5;241;43m0\u001b[39;49m\u001b[43m]\u001b[49m\u001b[43m,\u001b[49m\u001b[43m[\u001b[49m\u001b[38;5;241;43m0\u001b[39;49m\u001b[43m]\u001b[49m\u001b[43m,\u001b[49m\u001b[43m[\u001b[49m\u001b[38;5;241;43m1\u001b[39;49m\u001b[43m]\u001b[49m\u001b[43m,\u001b[49m\u001b[43m[\u001b[49m\u001b[38;5;241;43m0\u001b[39;49m\u001b[43m]\u001b[49m\u001b[43m]\u001b[49m\u001b[43m)\u001b[49m\n",
      "Cell \u001b[0;32mIn[3], line 2\u001b[0m, in \u001b[0;36mgini\u001b[0;34m(y)\u001b[0m\n\u001b[1;32m      1\u001b[0m \u001b[38;5;28;01mdef\u001b[39;00m \u001b[38;5;21mgini\u001b[39m(y):\n\u001b[0;32m----> 2\u001b[0m         number_of_each_class \u001b[38;5;241m=\u001b[39m \u001b[43mnp\u001b[49m\u001b[38;5;241;43m.\u001b[39;49m\u001b[43mbincount\u001b[49m\u001b[43m(\u001b[49m\u001b[43mnp\u001b[49m\u001b[38;5;241;43m.\u001b[39;49m\u001b[43marray\u001b[49m\u001b[43m(\u001b[49m\u001b[43my\u001b[49m\u001b[43m,\u001b[49m\u001b[43m \u001b[49m\u001b[43mdtype\u001b[49m\u001b[38;5;241;43m=\u001b[39;49m\u001b[43mnp\u001b[49m\u001b[38;5;241;43m.\u001b[39;49m\u001b[43mint64\u001b[49m\u001b[43m)\u001b[49m\u001b[43m)\u001b[49m\n\u001b[1;32m      3\u001b[0m         probabilities \u001b[38;5;241m=\u001b[39m number_of_each_class\u001b[38;5;241m/\u001b[39m\u001b[38;5;28mlen\u001b[39m(y)\n\u001b[1;32m      4\u001b[0m         prob_squared \u001b[38;5;241m=\u001b[39m np\u001b[38;5;241m.\u001b[39msquare(probabilities)\n",
      "File \u001b[0;32m<__array_function__ internals>:200\u001b[0m, in \u001b[0;36mbincount\u001b[0;34m(*args, **kwargs)\u001b[0m\n",
      "\u001b[0;31mValueError\u001b[0m: object too deep for desired array"
     ]
    }
   ],
   "source": [
    "gini([[1],[0],[0],[1],[0]])"
   ]
  },
  {
   "cell_type": "code",
   "execution_count": null,
   "id": "6570193a-86e6-44af-8fac-d30c833a19cb",
   "metadata": {},
   "outputs": [],
   "source": []
  }
 ],
 "metadata": {
  "kernelspec": {
   "display_name": "Python 3 (ipykernel)",
   "language": "python",
   "name": "python3"
  },
  "language_info": {
   "codemirror_mode": {
    "name": "ipython",
    "version": 3
   },
   "file_extension": ".py",
   "mimetype": "text/x-python",
   "name": "python",
   "nbconvert_exporter": "python",
   "pygments_lexer": "ipython3",
   "version": "3.10.9"
  }
 },
 "nbformat": 4,
 "nbformat_minor": 5
}
