{
 "cells": [
  {
   "cell_type": "code",
   "execution_count": 1,
   "id": "cbe1923e-85ac-408e-afe5-30db6264ba09",
   "metadata": {},
   "outputs": [],
   "source": [
    "import numpy as np\n",
    "import pandas as pd\n",
    "from matplotlib import pyplot as plt\n",
    "import cv2 as cv\n",
    "import glob\n",
    "from sklearn import tree\n",
    "import sklearn\n",
    "import time\n",
    "from sklearn.feature_selection import SelectKBest\n",
    "import pygraphviz\n",
    "from sklearn import tree\n",
    "from sklearn import metrics\n",
    "from sklearn.metrics import multilabel_confusion_matrix\n",
    "import seaborn as sns\n",
    "from sklearn.model_selection import GridSearchCV\n",
    "from sklearn.ensemble import RandomForestClassifier\n",
    "from sklearn.ensemble import GradientBoostingClassifier\n",
    "import xgboost as xgb"
   ]
  },
  {
   "cell_type": "code",
   "execution_count": 2,
   "id": "bed667b8-bc4f-4ba1-aa1d-dd548e3a00a6",
   "metadata": {},
   "outputs": [],
   "source": [
    "path = glob.glob(\"data/train/person/*.png\")\n",
    "cv_img = []\n",
    "for img in path:\n",
    "    n = np.array(cv.imread(img).flatten())\n",
    "    cv_img.append(n)\n",
    "path = glob.glob(\"data/train/car/*.png\")\n",
    "for img in path:\n",
    "    n = np.array(cv.imread(img).flatten())\n",
    "    cv_img.append(n)\n",
    "path = glob.glob(\"data/train/dog/*.png\")\n",
    "for img in path:\n",
    "    n = np.array(cv.imread(img).flatten())\n",
    "    cv_img.append(n)\n",
    "path = glob.glob(\"data/train/airplane/*.png\")\n",
    "for img in path:\n",
    "    n = np.array(cv.imread(img).flatten())\n",
    "    cv_img.append(n)"
   ]
  },
  {
   "cell_type": "code",
   "execution_count": 3,
   "id": "2f3acae0-5f9f-465f-88b5-87275bd2f146",
   "metadata": {},
   "outputs": [
    {
     "data": {
      "text/plain": [
       "(2000, 3072)"
      ]
     },
     "execution_count": 3,
     "metadata": {},
     "output_type": "execute_result"
    }
   ],
   "source": [
    "x_train = np.array(cv_img)\n",
    "x_train.shape"
   ]
  },
  {
   "cell_type": "code",
   "execution_count": 4,
   "id": "13903d51-6e94-49ec-b050-6125b2b5fb75",
   "metadata": {},
   "outputs": [],
   "source": [
    "y_faces = np.ones(500)\n",
    "y_cars = 0*y_faces\n",
    "y_dogs = 3*y_faces\n",
    "y_planes = 2*y_faces\n",
    "y_train = np.hstack((y_faces, y_cars, y_dogs, y_planes))"
   ]
  },
  {
   "cell_type": "code",
   "execution_count": 30,
   "id": "d8cf5c01-23a3-4301-ac1c-f5c5babc8f74",
   "metadata": {},
   "outputs": [],
   "source": [
    "path = glob.glob(\"data/self_test/*.png\")\n",
    "cv_img = []\n",
    "img_names = []\n",
    "for img in path:\n",
    "    n = np.array(cv.imread(img).flatten())\n",
    "    cv_img.append(n)\n",
    "    img_names.append(img)\n",
    "x_validation = np.array(cv_img)"
   ]
  },
  {
   "cell_type": "code",
   "execution_count": 31,
   "id": "14317ee3-72d8-4c0f-83fd-d4011e48eaad",
   "metadata": {},
   "outputs": [
    {
     "data": {
      "text/plain": [
       "(10, 3072)"
      ]
     },
     "execution_count": 31,
     "metadata": {},
     "output_type": "execute_result"
    }
   ],
   "source": [
    "x_validation.shape"
   ]
  },
  {
   "cell_type": "code",
   "execution_count": 11,
   "id": "e0baf083-c680-4947-bcf6-07af196f8b0b",
   "metadata": {},
   "outputs": [],
   "source": [
    "clf = xgb.XGBClassifier(n_estimators = 50, max_depth = 9, subsample = 0.6)"
   ]
  },
  {
   "cell_type": "code",
   "execution_count": 12,
   "id": "0a00942e-610e-4a6c-bb2d-049446ed819e",
   "metadata": {},
   "outputs": [
    {
     "data": {
      "text/plain": [
       "XGBClassifier(base_score=None, booster=None, callbacks=None,\n",
       "              colsample_bylevel=None, colsample_bynode=None,\n",
       "              colsample_bytree=None, early_stopping_rounds=None,\n",
       "              enable_categorical=False, eval_metric=None, feature_types=None,\n",
       "              gamma=None, gpu_id=None, grow_policy=None, importance_type=None,\n",
       "              interaction_constraints=None, learning_rate=None, max_bin=None,\n",
       "              max_cat_threshold=None, max_cat_to_onehot=None,\n",
       "              max_delta_step=None, max_depth=9, max_leaves=None,\n",
       "              min_child_weight=None, missing=nan, monotone_constraints=None,\n",
       "              n_estimators=50, n_jobs=None, num_parallel_tree=None,\n",
       "              objective='multi:softprob', predictor=None, ...)"
      ]
     },
     "execution_count": 12,
     "metadata": {},
     "output_type": "execute_result"
    }
   ],
   "source": [
    "clf.fit(x_train, y_train)"
   ]
  },
  {
   "cell_type": "code",
   "execution_count": 32,
   "id": "6798776f-dd3c-4e06-949c-4eecffd90af0",
   "metadata": {},
   "outputs": [],
   "source": [
    "y_test_predicted = clf.predict(x_validation)"
   ]
  },
  {
   "cell_type": "code",
   "execution_count": 33,
   "id": "f1c0b706-e5ae-4a8f-b78e-e90e97b42a9d",
   "metadata": {},
   "outputs": [
    {
     "data": {
      "text/plain": [
       "array([3, 3, 3, 3, 3, 1, 3, 2, 0, 3])"
      ]
     },
     "execution_count": 33,
     "metadata": {},
     "output_type": "execute_result"
    }
   ],
   "source": [
    "y_test_predicted"
   ]
  },
  {
   "cell_type": "code",
   "execution_count": null,
   "id": "4eef204b-7188-487d-ad86-020a3bc5b2dd",
   "metadata": {},
   "outputs": [],
   "source": []
  }
 ],
 "metadata": {
  "kernelspec": {
   "display_name": "Python 3 (ipykernel)",
   "language": "python",
   "name": "python3"
  },
  "language_info": {
   "codemirror_mode": {
    "name": "ipython",
    "version": 3
   },
   "file_extension": ".py",
   "mimetype": "text/x-python",
   "name": "python",
   "nbconvert_exporter": "python",
   "pygments_lexer": "ipython3",
   "version": "3.10.9"
  }
 },
 "nbformat": 4,
 "nbformat_minor": 5
}
